{
 "cells": [
  {
   "cell_type": "code",
   "execution_count": 3,
   "id": "c3ba6a53-9705-4f57-aa60-1a941a2efe0d",
   "metadata": {},
   "outputs": [
    {
     "name": "stdin",
     "output_type": "stream",
     "text": [
      "Enter the Vehicle Type:  car\n",
      "Enter the year of the vehicle:  2019\n",
      "Enter the make of the vehicle:  Toyota\n",
      "Enter the model of the vehicle:  Corolla\n",
      "Enter the door amount of the vehicle:  4\n",
      "Enter if the vehicle has a sun roof or solid roof:  solid roof\n"
     ]
    },
    {
     "name": "stdout",
     "output_type": "stream",
     "text": [
      "Vehicle Type: car\n",
      "Year: 2019\n",
      "Make: Toyota\n",
      "Model: Corolla\n",
      "Doors: 4\n",
      "Roof: solid roof\n"
     ]
    }
   ],
   "source": [
    "\n",
    "\"\"\"\n",
    "Colten Feller\n",
    "SDEV 220\n",
    "April 7, 2025\n",
    "MO3 Case Study - Lists, Functions, and Classes\n",
    "\"\"\"\n",
    "\n",
    "# import source code \n",
    "import random \n",
    "\n",
    "# Define the super class called Vehicle\n",
    "class Vehicle():\n",
    "    def __init__(self, vehicleType):\n",
    "        self.vehicleType = vehicleType\n",
    "\n",
    "    def displayInfo(self):\n",
    "        print(\"Vehicle Type: \" + self.vehicleType) # print the vehicle type\n",
    "\n",
    "class Automobile(Vehicle):\n",
    "    # Initialize the Automobile object with its attributes\n",
    "    def __init__(self, vehicleType, year, make, model, doors, roof):\n",
    "        # Initialize inherited attributes\n",
    "        super().__init__(vehicleType)\n",
    "        self.year = year\n",
    "        self.make = make\n",
    "        self.model = model\n",
    "        self.doors = doors\n",
    "        self.roof = roof\n",
    "    # Displays information of the automobile\n",
    "    def displayInfo(self):\n",
    "        super().displayInfo()\n",
    "        print(\"Year: \" + str(self.year))\n",
    "        print(\"Make: \" + str(self.make))\n",
    "        print(\"Model: \" + str(self.model))\n",
    "        print(\"Doors: \" + str(self.doors))\n",
    "        print(\"Roof: \" + str(self.roof))\n",
    "\n",
    "# Define function of the vehicle app\n",
    "def VehicleApp():\n",
    "    vehicleType = input(\"Enter the Vehicle Type: \")\n",
    "\n",
    "    year = input(\"Enter the year of the vehicle: \")\n",
    "    make = input(\"Enter the make of the vehicle: \")\n",
    "    model = input(\"Enter the model of the vehicle: \")\n",
    "    doors = input(\"Enter the door amount of the vehicle: \")\n",
    "    roof = input(\"Enter if the vehicle has a sun roof or solid roof: \")\n",
    "\n",
    "\n",
    "    customerAutomobile = Automobile(vehicleType, year, make, model, doors, roof)\n",
    "\n",
    "    customerAutomobile.displayInfo()\n",
    "\n",
    "VehicleApp()\n"
   ]
  },
  {
   "cell_type": "code",
   "execution_count": null,
   "id": "c212c933-87c5-48ef-ae49-e77414d63c54",
   "metadata": {},
   "outputs": [],
   "source": []
  }
 ],
 "metadata": {
  "kernelspec": {
   "display_name": "Python [conda env:base] *",
   "language": "python",
   "name": "conda-base-py"
  },
  "language_info": {
   "codemirror_mode": {
    "name": "ipython",
    "version": 3
   },
   "file_extension": ".py",
   "mimetype": "text/x-python",
   "name": "python",
   "nbconvert_exporter": "python",
   "pygments_lexer": "ipython3",
   "version": "3.12.7"
  }
 },
 "nbformat": 4,
 "nbformat_minor": 5
}
